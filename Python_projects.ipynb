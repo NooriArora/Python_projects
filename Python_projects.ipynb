{
  "nbformat": 4,
  "nbformat_minor": 0,
  "metadata": {
    "colab": {
      "name": "Python_projects.ipynb",
      "provenance": [],
      "authorship_tag": "ABX9TyPrcYoTRcYayLF6Ghb7OgGQ",
      "include_colab_link": true
    },
    "kernelspec": {
      "name": "python3",
      "display_name": "Python 3"
    },
    "language_info": {
      "name": "python"
    }
  },
  "cells": [
    {
      "cell_type": "markdown",
      "metadata": {
        "id": "view-in-github",
        "colab_type": "text"
      },
      "source": [
        "<a href=\"https://colab.research.google.com/github/NooriArora/Python_projects/blob/main/Python_projects.ipynb\" target=\"_parent\"><img src=\"https://colab.research.google.com/assets/colab-badge.svg\" alt=\"Open In Colab\"/></a>"
      ]
    },
    {
      "cell_type": "code",
      "execution_count": null,
      "metadata": {
        "colab": {
          "base_uri": "https://localhost:8080/"
        },
        "id": "F7Oi0q-aZI4E",
        "outputId": "b9e38510-fee6-4d2a-8c00-49642c92691e"
      },
      "outputs": [
        {
          "output_type": "stream",
          "name": "stdout",
          "text": [
            "Type a number: 10\n",
            "Make a guess: 6\n",
            " Wrong! Try again!\n",
            "Make a guess: 5\n",
            " Wrong! Try again!\n",
            "Make a guess: 4\n",
            " Wrong! Try again!\n",
            "Make a guess: 2\n",
            " Wrong! Try again!\n",
            "Make a guess: 1\n",
            " Wrong! Try again!\n",
            "Make a guess: 8\n",
            " Wrong! Try again!\n",
            "Make a guess: 9\n",
            " Wrong! Try again!\n",
            "Make a guess: 7\n",
            " Wrong! Try again!\n",
            "Make a guess: 3\n",
            "You got it right!!\n"
          ]
        }
      ],
      "source": [
        "#GUESS_THE_NUMBER\n",
        "\n",
        "#importing random module\n",
        "import random\n",
        "\n",
        "total_range=input(\"Type a number: \")\n",
        "\n",
        "#Checking if the number is a digit\n",
        "if total_range.isdigit():\n",
        "    total_range=int(total_range)\n",
        "\n",
        "    if total_range<=0:\n",
        "        print('Please type a number greater than zero ')\n",
        "        quit()\n",
        "\n",
        "else:\n",
        "    print('Please type a numeber next time')\n",
        "    quit()\n",
        "\n",
        "#generating a random number using randint() function and storing it in random_number variable\n",
        "random_number=random.randint(0,total_range)\n",
        "\n",
        "while True:\n",
        "    user_guess=input('Make a guess: ')\n",
        "    if user_guess.isdigit():\n",
        "        user_guess=int(user_guess)\n",
        "    else:\n",
        "        print('Print a number next time')\n",
        "        continue\n",
        "    \n",
        "    if user_guess==random_number:\n",
        "        print('You got it right!!')\n",
        "        break\n",
        "    else:\n",
        "        print(' Wrong! Try again!')\n"
      ]
    },
    {
      "cell_type": "code",
      "source": [
        "#COUNTDOWN_TIMER\n",
        "\n",
        "# import the time module\n",
        "import time\n",
        "\n",
        "# define the countdown func.\n",
        "def countdown(t):\n",
        "\t\n",
        "\twhile t:\n",
        "\t\tmins, secs = divmod(t, 60)\n",
        "\t\ttimer = '{:02d}:{:02d}'.format(mins, secs)\n",
        "\t\tprint(timer, end=\"\\r\")\n",
        "\t\ttime.sleep(1)\n",
        "\t\tt -= 1\n",
        "\t\t\n",
        "\n",
        "\t\n",
        "\tprint('TIMER ENDED !!')\n",
        "\n",
        "\n",
        "# input time in seconds\n",
        "t = input(\"Enter the time in seconds: \")\n",
        "\n",
        "# function call\n",
        "countdown(int(t))"
      ],
      "metadata": {
        "colab": {
          "base_uri": "https://localhost:8080/"
        },
        "id": "wis5AKQf2kpP",
        "outputId": "53753b61-953c-48d5-ef24-30502ad6cbdd"
      },
      "execution_count": 9,
      "outputs": [
        {
          "output_type": "stream",
          "name": "stdout",
          "text": [
            "Enter the time in seconds: 5\n",
            "TIMER ENDED !!\n"
          ]
        }
      ]
    }
  ]
}